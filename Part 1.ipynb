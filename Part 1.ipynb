{
 "cells": [
  {
   "cell_type": "markdown",
   "id": "65cd4a98",
   "metadata": {},
   "source": [
    "### 데이터 과학자가 판다스를 배우는 이유\n",
    "빅데이터의 시대가 성큼 다가왔다. 미국을 비롯한 데이터 선진국들은 인공지능과 빅테이터 기술을 놀라운 속도로 확산시키며 삶의 패러다임을 바꾸고 있다.  \n",
    "과거와는 달리 엄청나게 빠른 속도로 쌓여가는 방대한 데이터와, 그 데이터를 저장, 분석할 수 있는 컴퓨팅 파워의 결합이 데이터 과학이라는 새로운 영역을 \n",
    "출현 가능하게 했다.  \n",
    "데이터 과학은 데이터를 연구하는 분야이고, 데이터 자체가 가장 중요한 자원이다.  \n",
    "실제로 **데이터 분석 업무의 80~90%는 데이터를 수집하고 정리하는 일이 차지한다고 한다.** 나머지 10 - 20%는 알고리즘을 선택하고 모델링 결과를 분석하여 \n",
    "데이터로부터 유용한 정보를 뽑아내는 분석 프로세스의 몫이다.  \n",
    "데이터과학자가 하는 가장 기초적이고 중요한 일은 데이터를 수집하고 분석이 가능한 형태로 정리하는 것이라고 말할 수 있다. \n",
    "pandas라이브러리는 데이터를 수집하고 정리하는 데 최적화된 도구라고 볼 수 있다.  \n",
    "오픈소스라서 무료라는 장점도 있다. 또한 가장 배우기 쉬운 프로그래밍 언어 중의 하나인 파이썬을 기반으로 하기 때문에 컴퓨터과학이나 프로그램을 전공하지 않은 사람들도 쉽게 따라가며 배우는 것이 가능하다.  \n",
    "판다스를 배우면 데이터 과학의 80 - 90% 업무를 처리할 수 있고, 데이터과학자에게 필요한 기본적이면서도 아주 중요한 도구를 갖추게 된다. \n",
    "\n",
    "### 판다스 자료구조\n",
    "분석을 위해 다양한 소스로부터 수집하는 데이터는 형태나 속성이 매우 다양하다. 특히 서로 다른 형식을 갖는 여러 종류의 데이터를 컴퓨터가 이해할 수 있도록 동일한 형식을 갖는 구조로 통합할 필요가 있다.  \n",
    "이를 위해 판다스는 시리즈(Series)와 데이터프레임(DataFrame)이라는 구조화된 데이터 형식을 제공한다.  \n",
    "서로 다른 종류의 데이터를 한곳에 담는 그릇(컨테이너)이 된다.  \n",
    "다만 시리즈는 1차원 배열이고, 데이터프레임이 2차원 배열이라는 점에서 차이가 있다.  \n",
    "판다스의 1차적인 목적은 서로 다른 여러 가지 유형의 데이터를 공통의 포멧으로 정리하는 것이다. 특히 행과 열로 이루어진 2차원 구조의 데이터프레임은 데이터 분석 실무에서 자주 사용된다.  \n",
    "이 책의 많은 머신러닝 예제들도 데이터프레임으로 정리된 데이터를 사용한다.  \n",
    "\n",
    "<pre>\n",
    "<code>\n",
    "def pandas_learning():\n",
    "    print('let's go')\n",
    "</code>\n",
    "</pre>\n",
    "link : [Google][https://google.com]  \n",
    "\n",
    "[google](https://google.com, \"google link\")\n"
   ]
  },
  {
   "cell_type": "markdown",
   "id": "4e5d569f",
   "metadata": {},
   "source": [
    "### 시리즈\n",
    "시리즈는 데이터가 순차적으로 나열된 1차원 배열의 형태를 갖는다. 키와 값이 {k:v}형태로 짝을 이루는 파이썬 딕셔너리와 비슷한 구조를 갖는다고 볼 수 있다.  \n",
    "딕셔너리와 시리즈의 구조가 비슷하기 때문에 딕셔너리를 시리즈로 변환하는 방법을 많이 사용한다. 판다스는 내장 함수인 Series()를 이용하고, 디셔너리를 함수의 인자로 전달한다.\n",
    "딕셔너리 -> 시리즈 변환: pandas.Series(딕셔너리)  \n"
   ]
  },
  {
   "cell_type": "code",
   "execution_count": 1,
   "id": "6e356755",
   "metadata": {},
   "outputs": [
    {
     "name": "stdout",
     "output_type": "stream",
     "text": [
      "<class 'pandas.core.series.Series'>\n",
      "\n",
      "\n",
      "a    1\n",
      "b    2\n",
      "c    3\n",
      "dtype: int64\n"
     ]
    }
   ],
   "source": [
    "import pandas as pd\n",
    "\n",
    "dict_data = {'a': 1, 'b':2, 'c': 3}\n",
    "\n",
    "sr = pd.Series(dict_data)\n",
    "\n",
    "print(type(sr))\n",
    "print('\\n')\n",
    "print(sr)"
   ]
  },
  {
   "cell_type": "markdown",
   "id": "9e419060",
   "metadata": {},
   "source": [
    "#### 인덱스 구조\n",
    "인덱스는 자기와 짝을 이루는 데이터 값의 순서와 주소를 저장한다. 인덱스를 잘 활용하면 데이터 값의 탐색, 정렬, 선택, 결합 등 데이터 조작을 쉽게 할 수 있다. 인덱스에는 크게 두 가지 종류가 있다. 정수형 위치 인덱스(integer position)와 인덱스 이름(index name) 또는 인덱스 라벨(index label)이 그것이다.  \n",
    "인덱스 배열 : Series객체.index  \n",
    "데이터 값 배열: Series객체.values  \n",
    "판다스 Series() 함수를 사용하여 파이썬 리스트를 시리즈로 변환한다. 단, 리스트를 시리즈로 변활할 때는 딕셔너리의 키처럼 인덱스로 변환될 값이 없다. 따라서 인덱스를 별도로 정의하지 않으면, 디폴트로 정수형 위치 인덱스(0,1,2...)가 자동으로 지정된다. "
   ]
  },
  {
   "cell_type": "code",
   "execution_count": 2,
   "id": "d0cf3641",
   "metadata": {},
   "outputs": [
    {
     "name": "stdout",
     "output_type": "stream",
     "text": [
      "0    2021-11-11\n",
      "1          3.14\n",
      "2           ABC\n",
      "3           100\n",
      "4          True\n",
      "dtype: object\n",
      "RangeIndex(start=0, stop=5, step=1)\n",
      "\n",
      "\n",
      "['2021-11-11' 3.14 'ABC' 100 True]\n"
     ]
    }
   ],
   "source": [
    "list_data = ['2021-11-11', 3.14, 'ABC', 100, True]\n",
    "sr = pd.Series(list_data)\n",
    "print(sr)\n",
    "\n",
    "idx = sr.index\n",
    "val = sr.values\n",
    "print(idx)\n",
    "print('\\n')\n",
    "print(val)"
   ]
  },
  {
   "cell_type": "markdown",
   "id": "8d33e558",
   "metadata": {},
   "source": [
    "### 원소 선택\n",
    "원소의 위치를 나타내는 주소 역할을 하는 인덱스를 이용하여 시리즈의 원소를 선택한다. 하나의 원소를 선택할 수도 있고, 여러 원소를 한꺼번에 선택할 수도 있다. \n",
    "파이썬 리스트 슬라이싱 기법과 비슷하게 인덱스 범위를 지정하여 원소를 선택하는 방법도 있다.  \n",
    "인덱스의 두 가지 유형에 따라 사용법이 조금 다르다. 정수형 위치 인덱스는 대괄호안에 위치를 나타내는 숫자를 입력하는데 반해, 인덱스 이름을 사용할 때는 대괄화안에 이름과 함께 따옴표를 입력한다. 큰 따옴표와 작은 따옴표 모두 가능하다.  \n",
    "Series() 함수를 사용하여 파이썬 튜플을 시리즈로 변환한다. 튜플도 리스트처럼 딕셔너리의 키에 해당하는 값이 없어서 시리즈로 변활할 때 정수형 위치 인덱스가 자동 지정된다.\n",
    "리스트 또는 튜플을 시리즈로 만들 때 정수형 위치 인덱스 대신 인덱스 이름을 따로 지정할 수 있다. Series() 함수의 index 옵션에 인덱스 이름을 직접 전달하는 방식이다.  "
   ]
  },
  {
   "cell_type": "code",
   "execution_count": 3,
   "id": "76e8bae7",
   "metadata": {},
   "outputs": [
    {
     "name": "stdout",
     "output_type": "stream",
     "text": [
      "이름              영인\n",
      "생년월일    2010-05-01\n",
      "성별               여\n",
      "학생여부          True\n",
      "dtype: object\n",
      "Index(['이름', '생년월일', '성별', '학생여부'], dtype='object')\n",
      "영인\n",
      "영인\n"
     ]
    }
   ],
   "source": [
    "tup_data = ('영인', '2010-05-01', '여', True)\n",
    "sr = pd.Series(tup_data, index=['이름', '생년월일', '성별', '학생여부'])\n",
    "print(sr)\n",
    "print(sr.index)\n",
    "print(sr[0])\n",
    "print(sr['이름'])"
   ]
  },
  {
   "cell_type": "code",
   "execution_count": 4,
   "id": "c8f51e0d",
   "metadata": {},
   "outputs": [
    {
     "name": "stdout",
     "output_type": "stream",
     "text": [
      "생년월일    2010-05-01\n",
      "성별               여\n",
      "dtype: object\n",
      "생년월일    2010-05-01\n",
      "성별               여\n",
      "dtype: object\n"
     ]
    }
   ],
   "source": [
    "print(sr[[1,2]])\n",
    "print(sr[['생년월일', '성별']])"
   ]
  },
  {
   "cell_type": "code",
   "execution_count": 5,
   "id": "81601b7b",
   "metadata": {},
   "outputs": [
    {
     "name": "stdout",
     "output_type": "stream",
     "text": [
      "생년월일    2010-05-01\n",
      "dtype: object\n",
      "\n",
      "\n",
      "생년월일    2010-05-01\n",
      "성별               여\n",
      "학생여부          True\n",
      "dtype: object\n"
     ]
    }
   ],
   "source": [
    "print(sr[1:2])\n",
    "print('\\n')\n",
    "print(sr['생년월일':'학생여부'])"
   ]
  },
  {
   "cell_type": "markdown",
   "id": "3c501eca",
   "metadata": {},
   "source": [
    "### 데이터프레임\n",
    "데이터프레임은 2차원 배열이다. 행과 열로 만들어지는 2차원 배월 구조는 마이크로소프트 엑셀과 관계형 데이터베이스 등 컴퓨터 관련 다양한 분야에서 사용된다.  판다스의 데이터프레임 자료구조는 대표적인 통계 패키지인 R의 데이터프레임에서 유래했다고 알려져 있다.  \n",
    "시리즈를 열벡터라고하면, 데이터프레임은 여러개의 열벡터들이 같은 행 인덱스를 기준으로 줄지어 결합된 2차원 벡터 또는 행렬이다.  \n",
    "데이터프레임은 행과 열을 나타내기 위해 두 가지 종류의 주소를 사용한다. 행 인덱스와 열이름으로 구분한다.  \n",
    "데이터프레임의 열은 공통의 속성을 갖는 일련의 데이터를 나타내고, 행은 개별 관측대상에 대한 다양한 속성 데이터들의 모음인 레코드가 된다. \n",
    "> **데이터프레임 만들기**  \n",
    "데이터프레임을 만들기 위해서는 같은 길이(원소의 개수가 동일한)의 1차원 배열 여러 개가 필요하다. 데이터프레임은 여러 개의 시리즈(열)을 모아놓은 집합으로 이해하면 된다. 딕셔너리의 값 해당하는 각 리스트가 시리즈 배열로 변환되어 데이터프레임의 열이 된다. 딕셔너리의 키는 각 시리즈이 이름으로 변환되어 최종적으로 데이터프레임의 열 이름이 된다.  \n",
    "데이터프레임을 만들 때는 판다스 DataFrame()함수를 사용한다.  \n",
    "딕셔너리 -> 데이터프레임 변환 : pandas.DataFrame(딕셔너리 객체)"
   ]
  },
  {
   "cell_type": "code",
   "execution_count": 8,
   "id": "08ef8042",
   "metadata": {},
   "outputs": [
    {
     "name": "stdout",
     "output_type": "stream",
     "text": [
      "<class 'pandas.core.frame.DataFrame'>\n",
      "\n",
      "\n",
      "   co  c1  c2  c3  c4\n",
      "0   1   4   7  10  13\n",
      "1   2   5   8  11  14\n",
      "2   3   6   9  12  15\n"
     ]
    }
   ],
   "source": [
    "import pandas as pd\n",
    "\n",
    "dict_data = {'co': [1,2,3], 'c1':[4,5,6], 'c2':[7,8,9], 'c3':[10,11,12], 'c4':[13,14,15]}\n",
    "\n",
    "df = pd.DataFrame(dict_data)\n",
    "\n",
    "print(type(df))\n",
    "print('\\n')\n",
    "print(df)"
   ]
  },
  {
   "cell_type": "markdown",
   "id": "74a98685",
   "metadata": {},
   "source": [
    "### 행 인덱스/열 이름 설정\n",
    "데이터프레임의 구조적 특성 때문에 2차원 배열 형태의 데이터를 데이터프레임으로 변환하기 쉽다. 2차원 배열에는 여러 개의 리스트(투플)을 원소로 갖는 리스트(투플)를 예로 들 수 있다.  \n",
    "한편 2차원 배열을 DataFrame() 함수 인자로 전달하여 데이터프레임으로 변환할 때 행 인덱스와 열 이름 속성을 사용자가 직접 지정할 수도 있다.  \n",
    "**pandas(2차원 배열, index=행 인덱스 배열, columns=열 이름 배열)**\n",
    "\n"
   ]
  },
  {
   "cell_type": "code",
   "execution_count": 10,
   "id": "c9428ea0",
   "metadata": {},
   "outputs": [
    {
     "name": "stdout",
     "output_type": "stream",
     "text": [
      "    나이 성별   학교\n",
      "준서  15  남  덕영중\n",
      "예은  17  여  수리중\n",
      "\n",
      "\n",
      "Index(['준서', '예은'], dtype='object')\n",
      "\n",
      "\n",
      "Index(['나이', '성별', '학교'], dtype='object')\n"
     ]
    }
   ],
   "source": [
    "import pandas as pd\n",
    "\n",
    "df = pd.DataFrame([[15, '남', '덕영중'], [17, '여', '수리중']], index=['준서', '예은'], columns=['나이', '성별', '학교'])\n",
    "\n",
    "print(df)\n",
    "print('\\n')\n",
    "print(df.index)\n",
    "print('\\n')\n",
    "print(df.columns)"
   ]
  },
  {
   "cell_type": "code",
   "execution_count": 11,
   "id": "3c8223d1",
   "metadata": {},
   "outputs": [],
   "source": [
    "df.index = ['학생1', '학생2']\n",
    "df.columns = ['연령', '남녀', '소속']"
   ]
  },
  {
   "cell_type": "code",
   "execution_count": 12,
   "id": "006c80cf",
   "metadata": {},
   "outputs": [
    {
     "data": {
      "text/html": [
       "<div>\n",
       "<style scoped>\n",
       "    .dataframe tbody tr th:only-of-type {\n",
       "        vertical-align: middle;\n",
       "    }\n",
       "\n",
       "    .dataframe tbody tr th {\n",
       "        vertical-align: top;\n",
       "    }\n",
       "\n",
       "    .dataframe thead th {\n",
       "        text-align: right;\n",
       "    }\n",
       "</style>\n",
       "<table border=\"1\" class=\"dataframe\">\n",
       "  <thead>\n",
       "    <tr style=\"text-align: right;\">\n",
       "      <th></th>\n",
       "      <th>연령</th>\n",
       "      <th>남녀</th>\n",
       "      <th>소속</th>\n",
       "    </tr>\n",
       "  </thead>\n",
       "  <tbody>\n",
       "    <tr>\n",
       "      <th>학생1</th>\n",
       "      <td>15</td>\n",
       "      <td>남</td>\n",
       "      <td>덕영중</td>\n",
       "    </tr>\n",
       "    <tr>\n",
       "      <th>학생2</th>\n",
       "      <td>17</td>\n",
       "      <td>여</td>\n",
       "      <td>수리중</td>\n",
       "    </tr>\n",
       "  </tbody>\n",
       "</table>\n",
       "</div>"
      ],
      "text/plain": [
       "     연령 남녀   소속\n",
       "학생1  15  남  덕영중\n",
       "학생2  17  여  수리중"
      ]
     },
     "execution_count": 12,
     "metadata": {},
     "output_type": "execute_result"
    }
   ],
   "source": [
    "df"
   ]
  },
  {
   "cell_type": "markdown",
   "id": "1cf9316c",
   "metadata": {},
   "source": [
    "데이터프레임에 rename() 메소드를 적용하면 행 인덱스 또는 열 이름의 일부를 선택하여 변경할 수 있다. 단, 원본 객체를 직접 수정하는 것이 아니라 새로운 데이터프레임 객체를 반환하는 점에 유의한다. 원본 객체를 변경하려면 inplace=True 옵션을 사용한다.  \n",
    "***DataFrame 객체.rename(index={기존 인덱스:새 인덱스, ...})***\n"
   ]
  },
  {
   "cell_type": "code",
   "execution_count": 14,
   "id": "1a885bd7",
   "metadata": {},
   "outputs": [
    {
     "data": {
      "text/html": [
       "<div>\n",
       "<style scoped>\n",
       "    .dataframe tbody tr th:only-of-type {\n",
       "        vertical-align: middle;\n",
       "    }\n",
       "\n",
       "    .dataframe tbody tr th {\n",
       "        vertical-align: top;\n",
       "    }\n",
       "\n",
       "    .dataframe thead th {\n",
       "        text-align: right;\n",
       "    }\n",
       "</style>\n",
       "<table border=\"1\" class=\"dataframe\">\n",
       "  <thead>\n",
       "    <tr style=\"text-align: right;\">\n",
       "      <th></th>\n",
       "      <th>나이</th>\n",
       "      <th>남녀</th>\n",
       "      <th>소속</th>\n",
       "    </tr>\n",
       "  </thead>\n",
       "  <tbody>\n",
       "    <tr>\n",
       "      <th>학생1</th>\n",
       "      <td>15</td>\n",
       "      <td>남</td>\n",
       "      <td>덕영중</td>\n",
       "    </tr>\n",
       "    <tr>\n",
       "      <th>학생2</th>\n",
       "      <td>17</td>\n",
       "      <td>여</td>\n",
       "      <td>수리중</td>\n",
       "    </tr>\n",
       "  </tbody>\n",
       "</table>\n",
       "</div>"
      ],
      "text/plain": [
       "     나이 남녀   소속\n",
       "학생1  15  남  덕영중\n",
       "학생2  17  여  수리중"
      ]
     },
     "execution_count": 14,
     "metadata": {},
     "output_type": "execute_result"
    }
   ],
   "source": [
    "df.rename(columns={'연령': '나이'}, inplace=True)\n",
    "df"
   ]
  },
  {
   "cell_type": "markdown",
   "id": "ba327729",
   "metadata": {},
   "source": [
    "### 행/열 삭제\n",
    "데이터프레임의 행 또는 열을 삭제하는 명령으로 drop() 메소드가 있다. 행을 삭제할 때는 축(axis) 옵션으로 axis=0을 입력하거나, 별도로 입력하지 않는다. 반면 축 옵션으로 axis=1을 입력하면 열을 삭제한다.  \n",
    "동시에 여러 개의 행 또는 열을 삭제하려면 리스트 형태로 입력한다. 한편 drop() 메소드는 기존 객체를 변경하지 않고 새로운 객체를 반환하는 점을 유의한다. rename과 같이 원본 객체를 직접 변경하기 위해서는 inplace=True 옵션을 추가한다.  \n",
    "**행 삭제 : DataFrame 객체.drop(행 인덱스 또는 배열, axis=0)\n",
    "    열 삭제 : DataFrame 객체.drop(열 이름 또는 배열, axis=1)**\n"
   ]
  },
  {
   "cell_type": "code",
   "execution_count": 17,
   "id": "11dd5168",
   "metadata": {},
   "outputs": [
    {
     "name": "stdout",
     "output_type": "stream",
     "text": [
      "    수학  영어   음악   체육\n",
      "서준  90  99   85  100\n",
      "우현  80  88   95   90\n",
      "인아  70  90  100   90\n",
      "\n",
      "\n",
      "    수학  영어   음악   체육\n",
      "서준  90  99   85  100\n",
      "인아  70  90  100   90\n",
      "\n",
      "\n",
      "    수학  영어  음악   체육\n",
      "서준  90  99  85  100\n"
     ]
    },
    {
     "name": "stderr",
     "output_type": "stream",
     "text": [
      "/Users/petdoc/Documents/dev/pandas_study/venv/lib/python3.8/site-packages/pandas/core/frame.py:4906: SettingWithCopyWarning: \n",
      "A value is trying to be set on a copy of a slice from a DataFrame\n",
      "\n",
      "See the caveats in the documentation: https://pandas.pydata.org/pandas-docs/stable/user_guide/indexing.html#returning-a-view-versus-a-copy\n",
      "  return super().drop(\n",
      "/Users/petdoc/Documents/dev/pandas_study/venv/lib/python3.8/site-packages/pandas/core/frame.py:4906: SettingWithCopyWarning: \n",
      "A value is trying to be set on a copy of a slice from a DataFrame\n",
      "\n",
      "See the caveats in the documentation: https://pandas.pydata.org/pandas-docs/stable/user_guide/indexing.html#returning-a-view-versus-a-copy\n",
      "  return super().drop(\n"
     ]
    }
   ],
   "source": [
    "import pandas as pd\n",
    "\n",
    "exam_data = {'수학': [90,80,70], '영어':[99,88,90], '음악': [85,95,100], '체육': [100,90,90]}\n",
    "\n",
    "df = pd.DataFrame(exam_data, index=['서준', '우현', '인아'])\n",
    "print(df)\n",
    "print('\\n')\n",
    "\n",
    "df2 = df[:]\n",
    "df2.drop('우현', inplace=True)\n",
    "print(df2)\n",
    "print('\\n')\n",
    "\n",
    "df3 = df[:]\n",
    "df3.drop(['우현', '인아'], axis=0, inplace=True)\n",
    "print(df3)"
   ]
  },
  {
   "cell_type": "code",
   "execution_count": 18,
   "id": "e0aca3ec",
   "metadata": {},
   "outputs": [
    {
     "name": "stdout",
     "output_type": "stream",
     "text": [
      "    영어   음악   체육\n",
      "서준  99   85  100\n",
      "우현  88   95   90\n",
      "인아  90  100   90\n",
      "\n",
      "\n",
      "    수학   체육\n",
      "서준  90  100\n",
      "우현  80   90\n",
      "인아  70   90\n"
     ]
    }
   ],
   "source": [
    "df4 = df.copy()\n",
    "df4.drop('수학', axis=1, inplace=True)\n",
    "print(df4)\n",
    "print('\\n')\n",
    "\n",
    "df5 = df.copy()\n",
    "df5.drop(['영어', '음악'], axis=1, inplace=True)\n",
    "print(df5)"
   ]
  },
  {
   "cell_type": "markdown",
   "id": "9f3eb4d5",
   "metadata": {},
   "source": [
    "### 행 선택\n",
    "데이터프레임의 행 데이터를 선택하기 위해서는 loc와 iloc 인덱서를 사용한다. 인덱스 이름을 기준으로 행을 선택할 때는 loc을 이용하고, 정수형 위치 인덱스를 사용할 때는 iloc를 사용한다.  \n"
   ]
  },
  {
   "cell_type": "code",
   "execution_count": 20,
   "id": "3cbe19e7",
   "metadata": {},
   "outputs": [
    {
     "name": "stdout",
     "output_type": "stream",
     "text": [
      "수학     90\n",
      "영어     99\n",
      "음악     85\n",
      "체육    100\n",
      "Name: 서준, dtype: int64\n",
      "\n",
      "\n",
      "수학     90\n",
      "영어     99\n",
      "음악     85\n",
      "체육    100\n",
      "Name: 서준, dtype: int64\n"
     ]
    }
   ],
   "source": [
    "label1 = df.loc['서준']\n",
    "position1 = df.iloc[0]\n",
    "print(label1)\n",
    "print('\\n')\n",
    "print(position1)"
   ]
  },
  {
   "cell_type": "code",
   "execution_count": 22,
   "id": "a2b1fc13",
   "metadata": {},
   "outputs": [
    {
     "name": "stdout",
     "output_type": "stream",
     "text": [
      "    수학  영어  음악   체육\n",
      "서준  90  99  85  100\n",
      "우현  80  88  95   90\n",
      "\n",
      "\n",
      "    수학  영어  음악   체육\n",
      "서준  90  99  85  100\n",
      "우현  80  88  95   90\n"
     ]
    }
   ],
   "source": [
    "label2 = df.loc[['서준','우현']]\n",
    "position2 = df.iloc[[0,1]]\n",
    "print(label2)\n",
    "print('\\n')\n",
    "print(position2)\n"
   ]
  },
  {
   "cell_type": "code",
   "execution_count": 24,
   "id": "0c5ec131",
   "metadata": {},
   "outputs": [
    {
     "name": "stdout",
     "output_type": "stream",
     "text": [
      "    수학  영어  음악   체육\n",
      "서준  90  99  85  100\n",
      "우현  80  88  95   90\n",
      "\n",
      "\n",
      "    수학  영어  음악   체육\n",
      "서준  90  99  85  100\n"
     ]
    }
   ],
   "source": [
    "label3 = df.loc['서준':'우현']\n",
    "position3 = df.iloc[0:1]\n",
    "print(label3)\n",
    "print('\\n')\n",
    "print(position3)"
   ]
  },
  {
   "cell_type": "markdown",
   "id": "04346196",
   "metadata": {},
   "source": [
    "### 열 선택\n",
    "데이터프레임의 열 데이터를 1개만 선택할 때는, 대괄호([])안에 열 이름을 따옴표와 함께 입력하거나 도트(.) 다음에 열 이름을 입력하는 두 가지 방식을 사용한다.  두 번째 방법은 반드시 열 이름이 문자일 경우에만 가능하다. 이처럼 열 1개를 선택하면 시리즈 객체가 반환된다.  \n",
    "**열 1개 선택(시리즈 생성) : DataFrame 객체[\"열 이름\"] 또는 DataFrame 객체.열 이름**\n"
   ]
  },
  {
   "cell_type": "code",
   "execution_count": 25,
   "id": "41d1b1e1",
   "metadata": {},
   "outputs": [
    {
     "name": "stdout",
     "output_type": "stream",
     "text": [
      "   이름  수학   영어   음악   체육\n",
      "0  서준  90   98  100  100\n",
      "1  우현  80   99   90   99\n",
      "2  인아  70  100   95  100\n",
      "<class 'pandas.core.frame.DataFrame'>\n",
      "\n",
      "\n",
      "0    90\n",
      "1    80\n",
      "2    70\n",
      "Name: 수학, dtype: int64\n",
      "<class 'pandas.core.series.Series'>\n",
      "\n",
      "\n",
      "0     98\n",
      "1     99\n",
      "2    100\n",
      "Name: 영어, dtype: int64\n",
      "<class 'pandas.core.series.Series'>\n"
     ]
    }
   ],
   "source": [
    "exam_data = {'이름': ['서준', '우현', '인아'], '수학': [90,80,70], '영어':[98,99,100], '음악':[100,90,95], '체육':[100,99,100]}\n",
    "df = pd.DataFrame(exam_data)\n",
    "print(df)\n",
    "print(type(df))\n",
    "print('\\n')\n",
    "\n",
    "math1 = df['수학']\n",
    "print(math1)\n",
    "print(type(math1))\n",
    "print('\\n')\n",
    "\n",
    "eng = df.영어\n",
    "print(eng)\n",
    "print(type(eng))"
   ]
  },
  {
   "cell_type": "code",
   "execution_count": 26,
   "id": "e6780aa0",
   "metadata": {},
   "outputs": [
    {
     "name": "stdout",
     "output_type": "stream",
     "text": [
      "    음악   체육\n",
      "0  100  100\n",
      "1   90   99\n",
      "2   95  100\n",
      "<class 'pandas.core.frame.DataFrame'>\n",
      "\n",
      "\n",
      "   수학\n",
      "0  90\n",
      "1  80\n",
      "2  70\n",
      "<class 'pandas.core.frame.DataFrame'>\n"
     ]
    }
   ],
   "source": [
    "music_gym = df[['음악', '체육']]\n",
    "print(music_gym)\n",
    "print(type(music_gym))\n",
    "print('\\n')\n",
    "\n",
    "math2 = df[['수학']]\n",
    "print(math2)\n",
    "print(type(math2))"
   ]
  },
  {
   "cell_type": "code",
   "execution_count": 27,
   "id": "a9b5e91b",
   "metadata": {},
   "outputs": [
    {
     "data": {
      "text/html": [
       "<div>\n",
       "<style scoped>\n",
       "    .dataframe tbody tr th:only-of-type {\n",
       "        vertical-align: middle;\n",
       "    }\n",
       "\n",
       "    .dataframe tbody tr th {\n",
       "        vertical-align: top;\n",
       "    }\n",
       "\n",
       "    .dataframe thead th {\n",
       "        text-align: right;\n",
       "    }\n",
       "</style>\n",
       "<table border=\"1\" class=\"dataframe\">\n",
       "  <thead>\n",
       "    <tr style=\"text-align: right;\">\n",
       "      <th></th>\n",
       "      <th>이름</th>\n",
       "      <th>수학</th>\n",
       "      <th>영어</th>\n",
       "      <th>음악</th>\n",
       "      <th>체육</th>\n",
       "    </tr>\n",
       "  </thead>\n",
       "  <tbody>\n",
       "    <tr>\n",
       "      <th>0</th>\n",
       "      <td>서준</td>\n",
       "      <td>90</td>\n",
       "      <td>98</td>\n",
       "      <td>100</td>\n",
       "      <td>100</td>\n",
       "    </tr>\n",
       "    <tr>\n",
       "      <th>2</th>\n",
       "      <td>인아</td>\n",
       "      <td>70</td>\n",
       "      <td>100</td>\n",
       "      <td>95</td>\n",
       "      <td>100</td>\n",
       "    </tr>\n",
       "  </tbody>\n",
       "</table>\n",
       "</div>"
      ],
      "text/plain": [
       "   이름  수학   영어   음악   체육\n",
       "0  서준  90   98  100  100\n",
       "2  인아  70  100   95  100"
      ]
     },
     "execution_count": 27,
     "metadata": {},
     "output_type": "execute_result"
    }
   ],
   "source": [
    "df.iloc[::2]"
   ]
  },
  {
   "cell_type": "code",
   "execution_count": 28,
   "id": "34d537e3",
   "metadata": {},
   "outputs": [
    {
     "data": {
      "text/html": [
       "<div>\n",
       "<style scoped>\n",
       "    .dataframe tbody tr th:only-of-type {\n",
       "        vertical-align: middle;\n",
       "    }\n",
       "\n",
       "    .dataframe tbody tr th {\n",
       "        vertical-align: top;\n",
       "    }\n",
       "\n",
       "    .dataframe thead th {\n",
       "        text-align: right;\n",
       "    }\n",
       "</style>\n",
       "<table border=\"1\" class=\"dataframe\">\n",
       "  <thead>\n",
       "    <tr style=\"text-align: right;\">\n",
       "      <th></th>\n",
       "      <th>이름</th>\n",
       "      <th>수학</th>\n",
       "      <th>영어</th>\n",
       "      <th>음악</th>\n",
       "      <th>체육</th>\n",
       "    </tr>\n",
       "  </thead>\n",
       "  <tbody>\n",
       "    <tr>\n",
       "      <th>0</th>\n",
       "      <td>서준</td>\n",
       "      <td>90</td>\n",
       "      <td>98</td>\n",
       "      <td>100</td>\n",
       "      <td>100</td>\n",
       "    </tr>\n",
       "    <tr>\n",
       "      <th>2</th>\n",
       "      <td>인아</td>\n",
       "      <td>70</td>\n",
       "      <td>100</td>\n",
       "      <td>95</td>\n",
       "      <td>100</td>\n",
       "    </tr>\n",
       "  </tbody>\n",
       "</table>\n",
       "</div>"
      ],
      "text/plain": [
       "   이름  수학   영어   음악   체육\n",
       "0  서준  90   98  100  100\n",
       "2  인아  70  100   95  100"
      ]
     },
     "execution_count": 28,
     "metadata": {},
     "output_type": "execute_result"
    }
   ],
   "source": [
    "df.iloc[0:3:2]"
   ]
  },
  {
   "cell_type": "code",
   "execution_count": 29,
   "id": "f9e35d70",
   "metadata": {},
   "outputs": [
    {
     "data": {
      "text/html": [
       "<div>\n",
       "<style scoped>\n",
       "    .dataframe tbody tr th:only-of-type {\n",
       "        vertical-align: middle;\n",
       "    }\n",
       "\n",
       "    .dataframe tbody tr th {\n",
       "        vertical-align: top;\n",
       "    }\n",
       "\n",
       "    .dataframe thead th {\n",
       "        text-align: right;\n",
       "    }\n",
       "</style>\n",
       "<table border=\"1\" class=\"dataframe\">\n",
       "  <thead>\n",
       "    <tr style=\"text-align: right;\">\n",
       "      <th></th>\n",
       "      <th>이름</th>\n",
       "      <th>수학</th>\n",
       "      <th>영어</th>\n",
       "      <th>음악</th>\n",
       "      <th>체육</th>\n",
       "    </tr>\n",
       "  </thead>\n",
       "  <tbody>\n",
       "    <tr>\n",
       "      <th>2</th>\n",
       "      <td>인아</td>\n",
       "      <td>70</td>\n",
       "      <td>100</td>\n",
       "      <td>95</td>\n",
       "      <td>100</td>\n",
       "    </tr>\n",
       "    <tr>\n",
       "      <th>1</th>\n",
       "      <td>우현</td>\n",
       "      <td>80</td>\n",
       "      <td>99</td>\n",
       "      <td>90</td>\n",
       "      <td>99</td>\n",
       "    </tr>\n",
       "    <tr>\n",
       "      <th>0</th>\n",
       "      <td>서준</td>\n",
       "      <td>90</td>\n",
       "      <td>98</td>\n",
       "      <td>100</td>\n",
       "      <td>100</td>\n",
       "    </tr>\n",
       "  </tbody>\n",
       "</table>\n",
       "</div>"
      ],
      "text/plain": [
       "   이름  수학   영어   음악   체육\n",
       "2  인아  70  100   95  100\n",
       "1  우현  80   99   90   99\n",
       "0  서준  90   98  100  100"
      ]
     },
     "execution_count": 29,
     "metadata": {},
     "output_type": "execute_result"
    }
   ],
   "source": [
    "df.iloc[::-1]"
   ]
  },
  {
   "cell_type": "markdown",
   "id": "98f95021",
   "metadata": {},
   "source": [
    "### 원소 선택\n",
    "데이터프레임의 행 인덱스와 열 이름을 [행, 열] 형식의 2차원 좌표로 입력하여 원소 위치를 지정하는 방법이다. 원소가 위치하는 행과 열의 좌표를 입력하면 해당 위치의 원소가 반환된다.  \n",
    "1개의 행과 2개 이상의 열을 선택하거나 반대로 2개 이상의 행과 1개의 열을 선택하는 경우 시리즈 객체가 반환된다.  2개 이상의 행과 2개 이상의 열을 선택하면, 데이터프레임 객체를 반환한다. \n",
    "***인덱스 이름 : DataFrame 객체.loc[행 인덱스, 열 이름 ]\n",
    "   정수 위치 인덱스 : DataFrame 객체.iloc[행 번호, 열 번호]***\n",
    "  \n",
    "  "
   ]
  },
  {
   "cell_type": "code",
   "execution_count": 30,
   "id": "66e4ee14",
   "metadata": {},
   "outputs": [
    {
     "name": "stdout",
     "output_type": "stream",
     "text": [
      "    수학   영어   음악   체육\n",
      "이름                   \n",
      "서준  90   98  100  100\n",
      "우현  80   99   90   99\n",
      "인아  70  100   95  100\n"
     ]
    }
   ],
   "source": [
    "df.set_index('이름', inplace=True)\n",
    "print(df)\n"
   ]
  },
  {
   "cell_type": "code",
   "execution_count": 31,
   "id": "9eec4918",
   "metadata": {},
   "outputs": [
    {
     "name": "stdout",
     "output_type": "stream",
     "text": [
      "100\n",
      "100\n"
     ]
    }
   ],
   "source": [
    "a = df.loc['서준', '음악']\n",
    "print(a)\n",
    "b = df.iloc[0,3]\n",
    "print(b)"
   ]
  },
  {
   "cell_type": "code",
   "execution_count": 39,
   "id": "93b74e33",
   "metadata": {},
   "outputs": [
    {
     "name": "stdout",
     "output_type": "stream",
     "text": [
      "음악    100\n",
      "체육    100\n",
      "Name: 서준, dtype: int64\n",
      "음악    100\n",
      "체육    100\n",
      "Name: 서준, dtype: int64\n",
      "음악    100\n",
      "체육    100\n",
      "Name: 서준, dtype: int64\n",
      "음악    100\n",
      "체육    100\n",
      "Name: 서준, dtype: int64\n",
      "     음악   체육\n",
      "이름          \n",
      "서준  100  100\n",
      "우현   90   99\n",
      "     음악   체육\n",
      "이름          \n",
      "서준  100  100\n",
      "우현   90   99\n",
      "     음악   체육\n",
      "이름          \n",
      "서준  100  100\n",
      "우현   90   99\n"
     ]
    }
   ],
   "source": [
    "c = df.loc['서준', ['음악', '체육']]\n",
    "print(c)\n",
    "d = df.iloc[0, [2,3]]\n",
    "print(d)\n",
    "e = df.loc['서준', '음악':'체육']\n",
    "print(e)\n",
    "f = df.iloc[0, 2:]\n",
    "print(f)\n",
    "g = df.loc[['서준', '우현'], ['음악', '체육']]\n",
    "print(g)\n",
    "h = df.iloc[[0,1], [2,3]]\n",
    "print(h)\n",
    "i = df.loc['서준':'우현', '음악':'체육']\n",
    "print(i)\n",
    "j = df.iloc[0:2, 2:]"
   ]
  },
  {
   "cell_type": "code",
   "execution_count": 42,
   "id": "aecc9fde",
   "metadata": {},
   "outputs": [
    {
     "data": {
      "text/html": [
       "<div>\n",
       "<style scoped>\n",
       "    .dataframe tbody tr th:only-of-type {\n",
       "        vertical-align: middle;\n",
       "    }\n",
       "\n",
       "    .dataframe tbody tr th {\n",
       "        vertical-align: top;\n",
       "    }\n",
       "\n",
       "    .dataframe thead th {\n",
       "        text-align: right;\n",
       "    }\n",
       "</style>\n",
       "<table border=\"1\" class=\"dataframe\">\n",
       "  <thead>\n",
       "    <tr style=\"text-align: right;\">\n",
       "      <th></th>\n",
       "      <th>음악</th>\n",
       "      <th>체육</th>\n",
       "    </tr>\n",
       "    <tr>\n",
       "      <th>이름</th>\n",
       "      <th></th>\n",
       "      <th></th>\n",
       "    </tr>\n",
       "  </thead>\n",
       "  <tbody>\n",
       "    <tr>\n",
       "      <th>서준</th>\n",
       "      <td>100</td>\n",
       "      <td>100</td>\n",
       "    </tr>\n",
       "    <tr>\n",
       "      <th>우현</th>\n",
       "      <td>90</td>\n",
       "      <td>99</td>\n",
       "    </tr>\n",
       "    <tr>\n",
       "      <th>인아</th>\n",
       "      <td>95</td>\n",
       "      <td>100</td>\n",
       "    </tr>\n",
       "  </tbody>\n",
       "</table>\n",
       "</div>"
      ],
      "text/plain": [
       "     음악   체육\n",
       "이름          \n",
       "서준  100  100\n",
       "우현   90   99\n",
       "인아   95  100"
      ]
     },
     "execution_count": 42,
     "metadata": {},
     "output_type": "execute_result"
    }
   ],
   "source": [
    "df.iloc[ : , [2, 3]]"
   ]
  },
  {
   "cell_type": "markdown",
   "id": "a176e342",
   "metadata": {},
   "source": [
    "### 열 추가\n",
    "데이터프레임에 열을 추가하는 방법이다. 데이터프레임의 마지막 열에 덧붙이듯 새로운 열을 추가한다.  \n",
    "***열 추가: DataFrame 객체['추가하려는 열 이름'] = 데이터 값***"
   ]
  },
  {
   "cell_type": "code",
   "execution_count": 43,
   "id": "4cba1461",
   "metadata": {},
   "outputs": [],
   "source": [
    "df['국어'] = 80"
   ]
  },
  {
   "cell_type": "code",
   "execution_count": 44,
   "id": "736f9086",
   "metadata": {},
   "outputs": [
    {
     "data": {
      "text/html": [
       "<div>\n",
       "<style scoped>\n",
       "    .dataframe tbody tr th:only-of-type {\n",
       "        vertical-align: middle;\n",
       "    }\n",
       "\n",
       "    .dataframe tbody tr th {\n",
       "        vertical-align: top;\n",
       "    }\n",
       "\n",
       "    .dataframe thead th {\n",
       "        text-align: right;\n",
       "    }\n",
       "</style>\n",
       "<table border=\"1\" class=\"dataframe\">\n",
       "  <thead>\n",
       "    <tr style=\"text-align: right;\">\n",
       "      <th></th>\n",
       "      <th>수학</th>\n",
       "      <th>영어</th>\n",
       "      <th>음악</th>\n",
       "      <th>체육</th>\n",
       "      <th>국어</th>\n",
       "    </tr>\n",
       "    <tr>\n",
       "      <th>이름</th>\n",
       "      <th></th>\n",
       "      <th></th>\n",
       "      <th></th>\n",
       "      <th></th>\n",
       "      <th></th>\n",
       "    </tr>\n",
       "  </thead>\n",
       "  <tbody>\n",
       "    <tr>\n",
       "      <th>서준</th>\n",
       "      <td>90</td>\n",
       "      <td>98</td>\n",
       "      <td>100</td>\n",
       "      <td>100</td>\n",
       "      <td>80</td>\n",
       "    </tr>\n",
       "    <tr>\n",
       "      <th>우현</th>\n",
       "      <td>80</td>\n",
       "      <td>99</td>\n",
       "      <td>90</td>\n",
       "      <td>99</td>\n",
       "      <td>80</td>\n",
       "    </tr>\n",
       "    <tr>\n",
       "      <th>인아</th>\n",
       "      <td>70</td>\n",
       "      <td>100</td>\n",
       "      <td>95</td>\n",
       "      <td>100</td>\n",
       "      <td>80</td>\n",
       "    </tr>\n",
       "  </tbody>\n",
       "</table>\n",
       "</div>"
      ],
      "text/plain": [
       "    수학   영어   음악   체육  국어\n",
       "이름                       \n",
       "서준  90   98  100  100  80\n",
       "우현  80   99   90   99  80\n",
       "인아  70  100   95  100  80"
      ]
     },
     "execution_count": 44,
     "metadata": {},
     "output_type": "execute_result"
    }
   ],
   "source": [
    "df"
   ]
  },
  {
   "cell_type": "markdown",
   "id": "874a7b66",
   "metadata": {},
   "source": [
    "### 행 추가\n",
    "데이터프레임에 행을 추가하는 방법이다. 추가하려는 행 이름과 데이터 값을 loc인덱서로 사용하여 입력한다. 하나의 데이터 값을 입력하거나, 열의 개수에 맞게 배열 형태로 여러 개의 값을 입력할 수 있다.  \n",
    "전자의 경우 행의 모든 원소에 같은 값이 추가된다. 후자의 경우 배열의 순서대로 열 위치에 값이 하나씩 추가된다. 또한 행 벡터 자체가 배열이므로, 기존 행을 복사해서 새로운 행에 그대로 추가할 수도 있다.  \n",
    "***행 추가: DataFrame.loc['새로운 행 이름'] = 데이터 값 (또는 배열)***"
   ]
  },
  {
   "cell_type": "code",
   "execution_count": 45,
   "id": "693a270a",
   "metadata": {},
   "outputs": [
    {
     "name": "stdout",
     "output_type": "stream",
     "text": [
      "   이름  수학   영어   음악   체육\n",
      "0  서준  90   98  100  100\n",
      "1  우현  80   99   90   99\n",
      "2  인아  70  100   95  100\n"
     ]
    }
   ],
   "source": [
    "exam_data = {'이름': ['서준', '우현', '인아'], '수학': [90,80,70], '영어':[98,99,100], '음악':[100,90,95], '체육':[100,99,100]}\n",
    "df = pd.DataFrame(exam_data)\n",
    "print(df)\n"
   ]
  },
  {
   "cell_type": "code",
   "execution_count": 46,
   "id": "f8d01bc8",
   "metadata": {},
   "outputs": [
    {
     "name": "stdout",
     "output_type": "stream",
     "text": [
      "   이름  수학   영어   음악   체육\n",
      "0  서준  90   98  100  100\n",
      "1  우현  80   99   90   99\n",
      "2  인아  70  100   95  100\n",
      "3   0   0    0    0    0\n",
      "\n",
      "\n",
      "   이름  수학   영어   음악   체육\n",
      "0  서준  90   98  100  100\n",
      "1  우현  80   99   90   99\n",
      "2  인아  70  100   95  100\n",
      "3   0   0    0    0    0\n",
      "4  동규  90   80   70   60\n",
      "\n",
      "\n",
      "   이름  수학   영어   음악   체육\n",
      "0  서준  90   98  100  100\n",
      "1  우현  80   99   90   99\n",
      "2  인아  70  100   95  100\n",
      "3   0   0    0    0    0\n",
      "4  동규  90   80   70   60\n",
      "5   0   0    0    0    0\n"
     ]
    }
   ],
   "source": [
    "df.loc[3] = 0\n",
    "print(df)\n",
    "print('\\n')\n",
    "df.loc[4] = ['동규', 90,80,70,60]\n",
    "print(df)\n",
    "print('\\n')\n",
    "\n",
    "df.loc[5] = df.loc[3]\n",
    "print(df)"
   ]
  },
  {
   "cell_type": "markdown",
   "id": "13c588ae",
   "metadata": {},
   "source": [
    "### 원소 값 변경\n",
    "데이터프레임의 특정 원소를 선택하고 새로운 데이터 값을 지정해주면 원소 값이 변경된다. 원소 1개를 선택하여 변경할 수 도 있고, 여러개의 원소를 한꺼번에 값을 바꿀 수 도 있다.  \n",
    "변경할 원소를 선택할 때 데이터프레임 인덱싱과 슬라이싱 기법을 사용한다.  \n",
    "***원소 값 변경: DataFrame 객체의 일부분 또는 원소를 선택 = 새로운 값***"
   ]
  },
  {
   "cell_type": "code",
   "execution_count": 70,
   "id": "7b6e33bb",
   "metadata": {},
   "outputs": [],
   "source": [
    "df.drop(0, inplace=True)"
   ]
  },
  {
   "cell_type": "code",
   "execution_count": 71,
   "id": "82cdb1b6",
   "metadata": {},
   "outputs": [
    {
     "data": {
      "text/html": [
       "<div>\n",
       "<style scoped>\n",
       "    .dataframe tbody tr th:only-of-type {\n",
       "        vertical-align: middle;\n",
       "    }\n",
       "\n",
       "    .dataframe tbody tr th {\n",
       "        vertical-align: top;\n",
       "    }\n",
       "\n",
       "    .dataframe thead th {\n",
       "        text-align: right;\n",
       "    }\n",
       "</style>\n",
       "<table border=\"1\" class=\"dataframe\">\n",
       "  <thead>\n",
       "    <tr style=\"text-align: right;\">\n",
       "      <th></th>\n",
       "      <th>수학</th>\n",
       "      <th>영어</th>\n",
       "      <th>음악</th>\n",
       "      <th>체육</th>\n",
       "    </tr>\n",
       "    <tr>\n",
       "      <th>이름</th>\n",
       "      <th></th>\n",
       "      <th></th>\n",
       "      <th></th>\n",
       "      <th></th>\n",
       "    </tr>\n",
       "  </thead>\n",
       "  <tbody>\n",
       "    <tr>\n",
       "      <th>서준</th>\n",
       "      <td>90</td>\n",
       "      <td>98</td>\n",
       "      <td>100</td>\n",
       "      <td>80</td>\n",
       "    </tr>\n",
       "    <tr>\n",
       "      <th>우현</th>\n",
       "      <td>80</td>\n",
       "      <td>99</td>\n",
       "      <td>90</td>\n",
       "      <td>99</td>\n",
       "    </tr>\n",
       "    <tr>\n",
       "      <th>인아</th>\n",
       "      <td>70</td>\n",
       "      <td>100</td>\n",
       "      <td>95</td>\n",
       "      <td>100</td>\n",
       "    </tr>\n",
       "    <tr>\n",
       "      <th>동규</th>\n",
       "      <td>90</td>\n",
       "      <td>80</td>\n",
       "      <td>70</td>\n",
       "      <td>60</td>\n",
       "    </tr>\n",
       "  </tbody>\n",
       "</table>\n",
       "</div>"
      ],
      "text/plain": [
       "    수학   영어   음악   체육\n",
       "이름                   \n",
       "서준  90   98  100   80\n",
       "우현  80   99   90   99\n",
       "인아  70  100   95  100\n",
       "동규  90   80   70   60"
      ]
     },
     "execution_count": 71,
     "metadata": {},
     "output_type": "execute_result"
    }
   ],
   "source": [
    "df"
   ]
  },
  {
   "cell_type": "code",
   "execution_count": 73,
   "id": "f42f62e4",
   "metadata": {},
   "outputs": [
    {
     "name": "stdout",
     "output_type": "stream",
     "text": [
      "    수학   영어   음악   체육\n",
      "이름                   \n",
      "서준  90   98  100   80\n",
      "우현  80   99   90   99\n",
      "인아  70  100   95  100\n",
      "동규  90   80   70   60\n",
      "\n",
      "\n",
      "    수학   영어   음악   체육\n",
      "이름                   \n",
      "서준  90   98  100   90\n",
      "우현  80   99   90   99\n",
      "인아  70  100   95  100\n",
      "동규  90   80   70   60\n",
      "\n",
      "\n",
      "    수학   영어   음악   체육\n",
      "이름                   \n",
      "서준  90   98  100  100\n",
      "우현  80   99   90   99\n",
      "인아  70  100   95  100\n",
      "동규  90   80   70   60\n"
     ]
    }
   ],
   "source": [
    "df.iloc[0][3] = 80\n",
    "print(df)\n",
    "print('\\n')\n",
    "\n",
    "df.loc['서준']['체육'] = 90\n",
    "print(df)\n",
    "print('\\n')\n",
    "\n",
    "df.loc['서준','체육'] = 100\n",
    "print(df)"
   ]
  },
  {
   "cell_type": "code",
   "execution_count": 76,
   "id": "2e8815ab",
   "metadata": {},
   "outputs": [
    {
     "name": "stdout",
     "output_type": "stream",
     "text": [
      "    수학   영어  음악   체육\n",
      "이름                  \n",
      "서준  90   98  50   50\n",
      "우현  80   99  90   99\n",
      "인아  70  100  95  100\n",
      "동규  90   80  70   60\n",
      "\n",
      "\n",
      "    수학   영어   음악   체육\n",
      "이름                   \n",
      "서준  90   98  100   50\n",
      "우현  80   99   90   99\n",
      "인아  70  100   95  100\n",
      "동규  90   80   70   60\n"
     ]
    }
   ],
   "source": [
    "# 원소 여러 개를 변경\n",
    "df.loc['서준', ['음악', '체육']] = 50\n",
    "print(df)\n",
    "print('\\n')\n",
    "df.loc['서준',['음악','체육']] = 100, 50\n",
    "print(df)"
   ]
  },
  {
   "cell_type": "markdown",
   "id": "083750e8",
   "metadata": {},
   "source": [
    "### 행, 열의 위치 바꾸기\n",
    "선형대수학의 전치행렬과 같은 개념.  \n",
    "전치의 결과로 새로운 객체를 반환하므로, 기존 객체를 반환하기 위해서는 df = transpose() 또는 df = df.T와 같이 기존 객체에 새로운 객체를 할당해주는 과정이 필요하다.  \n",
    "***행, 열 바꾸기: DataFrame 객체.transpose() 또는 DataFrame 객체.T***"
   ]
  },
  {
   "cell_type": "code",
   "execution_count": 77,
   "id": "37b56a71",
   "metadata": {},
   "outputs": [
    {
     "name": "stdout",
     "output_type": "stream",
     "text": [
      "   이름  수학  영어   음악   체육\n",
      "0  서준  90  98   85  100\n",
      "1  우현  80  99   95   90\n",
      "2  인아  70  70  100   90\n",
      "\n",
      "\n",
      "      0   1    2\n",
      "이름   서준  우현   인아\n",
      "수학   90  80   70\n",
      "영어   98  99   70\n",
      "음악   85  95  100\n",
      "체육  100  90   90\n",
      "\n",
      "\n",
      "   이름  수학  영어   음악   체육\n",
      "0  서준  90  98   85  100\n",
      "1  우현  80  99   95   90\n",
      "2  인아  70  70  100   90\n"
     ]
    }
   ],
   "source": [
    "exam_data = {'이름': ['서준','우현','인아'],\n",
    "             '수학': [90,80,70],\n",
    "             '영어': [98,99,70],\n",
    "             '음악': [85,95,100],\n",
    "             '체육': [100,90,90]\n",
    "            }\n",
    "df = pd.DataFrame(exam_data)\n",
    "print(df)\n",
    "print('\\n')\n",
    "\n",
    "df = df.transpose()\n",
    "print(df)\n",
    "print('\\n')\n",
    "\n",
    "df = df.T\n",
    "print(df)"
   ]
  },
  {
   "cell_type": "markdown",
   "id": "2af7c75b",
   "metadata": {},
   "source": [
    "### 인덱스 활용\n",
    "#### 특정 열을 행 인덱스로 설정\n",
    "set_index() 메소드를 사용하여 데이터프레임의 특정 열을 행 인덱스로 설정한다. 단, 원본 데이터프레임을 바꾸지 않고 새로운 데이터프레임 객체를 반환하는 점에 유의한다. \n",
    "***특정 열을 행 인덱스로 설정: DataFrame 객체.set_index(['열 이름'] 또는 '열 이름')***"
   ]
  },
  {
   "cell_type": "code",
   "execution_count": 79,
   "id": "57819747",
   "metadata": {},
   "outputs": [
    {
     "name": "stdout",
     "output_type": "stream",
     "text": [
      "    수학  영어   음악   체육\n",
      "이름                  \n",
      "서준  90  98   85  100\n",
      "우현  80  99   95   90\n",
      "인아  70  70  100   90\n",
      "\n",
      "\n"
     ]
    }
   ],
   "source": [
    "ndf = df.set_index(['이름'])\n",
    "print(ndf)\n",
    "print('\\n')"
   ]
  },
  {
   "cell_type": "code",
   "execution_count": 80,
   "id": "4d028c32",
   "metadata": {},
   "outputs": [
    {
     "name": "stdout",
     "output_type": "stream",
     "text": [
      "     이름  수학  영어   체육\n",
      "음악                  \n",
      "85   서준  90  98  100\n",
      "95   우현  80  99   90\n",
      "100  인아  70  70   90\n",
      "\n",
      "\n"
     ]
    }
   ],
   "source": [
    "ndf2 = df.set_index(['음악'])\n",
    "print(ndf2)\n",
    "print('\\n')"
   ]
  },
  {
   "cell_type": "code",
   "execution_count": 81,
   "id": "ae4c5867",
   "metadata": {},
   "outputs": [
    {
     "name": "stdout",
     "output_type": "stream",
     "text": [
      "        이름  영어   체육\n",
      "수학 음악              \n",
      "90 85   서준  98  100\n",
      "80 95   우현  99   90\n",
      "70 100  인아  70   90\n",
      "\n",
      "\n"
     ]
    }
   ],
   "source": [
    "ndf3 = df.set_index(['수학', '음악'])\n",
    "print(ndf3)\n",
    "print('\\n')"
   ]
  },
  {
   "cell_type": "markdown",
   "id": "e5af2d9a",
   "metadata": {},
   "source": [
    "### 행 인덱스 재배열\n",
    "reindex() 메소드를 사용하면 데이터프레임의 행 인덱스를 새로운 배열로 저장할 수 있다. 기존 객체를 변경하지 않고 새로운 데이터프레임 객체를 반환한다.  \n",
    "***새로운 배열로 행 인덱스를 재지정: DataFrame 객체.reindx(새로운 인덱스 배열)***"
   ]
  },
  {
   "cell_type": "code",
   "execution_count": 84,
   "id": "f2790061",
   "metadata": {},
   "outputs": [
    {
     "name": "stdout",
     "output_type": "stream",
     "text": [
      "    co  c1  c2  c3  c4\n",
      "r0   1   4   7  10  13\n",
      "r1   2   5   8  11  14\n",
      "r2   3   6   9  12  15\n",
      "\n",
      "\n",
      "     co   c1   c2    c3    c4\n",
      "r0  1.0  4.0  7.0  10.0  13.0\n",
      "r1  2.0  5.0  8.0  11.0  14.0\n",
      "r2  3.0  6.0  9.0  12.0  15.0\n",
      "r3  NaN  NaN  NaN   NaN   NaN\n",
      "r4  NaN  NaN  NaN   NaN   NaN\n",
      "\n",
      "\n",
      "    co  c1  c2  c3  c4\n",
      "r0   1   4   7  10  13\n",
      "r1   2   5   8  11  14\n",
      "r2   3   6   9  12  15\n",
      "r3   0   0   0   0   0\n",
      "r4   0   0   0   0   0\n"
     ]
    }
   ],
   "source": [
    "df = pd.DataFrame(dict_data, index=['r0', 'r1', 'r2'])\n",
    "print(df)\n",
    "print('\\n')\n",
    "\n",
    "new_index = ['r0', 'r1', 'r2','r3','r4']\n",
    "ndf = df.reindex(new_index)\n",
    "print(ndf)\n",
    "print('\\n')\n",
    "ndf2 = df.reindex(new_index, fill_value=0)\n",
    "print(ndf2)"
   ]
  },
  {
   "cell_type": "markdown",
   "id": "0a4be7fa",
   "metadata": {},
   "source": [
    "### 행 인덱스 초기화\n",
    "reset_index() 메소드를 활용하여 행 인덱스를 정수형 위치 인덱스로 초기화한다. 이 때 기존 행 인덱스는 열로 이동한다. 다른 경우와 마찬가지로 새로운 데이터프레임 객체를 반환한다.  \n",
    "***정수형 위치 인덱스로 초기화: DataFrame 객체.reset_index()***"
   ]
  },
  {
   "cell_type": "code",
   "execution_count": 85,
   "id": "90638bac",
   "metadata": {},
   "outputs": [
    {
     "name": "stdout",
     "output_type": "stream",
     "text": [
      "    co  c1  c2  c3  c4\n",
      "r0   1   4   7  10  13\n",
      "r1   2   5   8  11  14\n",
      "r2   3   6   9  12  15\n",
      "\n",
      "\n",
      "  index  co  c1  c2  c3  c4\n",
      "0    r0   1   4   7  10  13\n",
      "1    r1   2   5   8  11  14\n",
      "2    r2   3   6   9  12  15\n"
     ]
    }
   ],
   "source": [
    "df = pd.DataFrame(dict_data, index = ['r0','r1','r2'])\n",
    "print(df)\n",
    "print('\\n')\n",
    "\n",
    "ndf = df.reset_index()\n",
    "print(ndf)"
   ]
  },
  {
   "cell_type": "code",
   "execution_count": 89,
   "id": "2cf6d7b4",
   "metadata": {},
   "outputs": [],
   "source": [
    "ndf.drop(['index'], axis=1, inplace=True)"
   ]
  },
  {
   "cell_type": "markdown",
   "id": "4b1b5475",
   "metadata": {},
   "source": [
    "### 행 인덱스를 기준으로 데이터프레임 정렬\n",
    "sort_index() 메소드를 활용하여 행 인덱스를 기준으로 데이터프레임의 값을 정렬한다. ascending 옵션을 사용하여 오름차순 또는 내림차순을 설정한다. 새롭게 정렬된 데이터프레임을 반환한다.  \n",
    "***행 인덱스 기준 정렬: DataFrame 객체.sort_index()***"
   ]
  },
  {
   "cell_type": "code",
   "execution_count": 91,
   "id": "327306ad",
   "metadata": {},
   "outputs": [
    {
     "name": "stdout",
     "output_type": "stream",
     "text": [
      "    co  c1  c2  c3  c4\n",
      "r2   3   6   9  12  15\n",
      "r1   2   5   8  11  14\n",
      "r0   1   4   7  10  13\n"
     ]
    }
   ],
   "source": [
    "ndf = df.sort_index(ascending=False)\n",
    "print(ndf)"
   ]
  },
  {
   "cell_type": "markdown",
   "id": "df5ea482",
   "metadata": {},
   "source": [
    "### 특정 열의 데이터 값을 기준으로 데이터프레임 정렬하기 \n",
    "특정 열의 데이터를 기준으로 데이터프레임을 정렬할 수 있다. sort_values() 메소드를 활용하며, 새롭게 정렬된 데이터프레임 객체를 반환한다.  \n",
    "***열 기준 정렬: DataFrame 객체.sort_values()***"
   ]
  },
  {
   "cell_type": "code",
   "execution_count": 92,
   "id": "26406ceb",
   "metadata": {},
   "outputs": [
    {
     "name": "stdout",
     "output_type": "stream",
     "text": [
      "    co  c1  c2  c3  c4\n",
      "r0   1   4   7  10  13\n",
      "r1   2   5   8  11  14\n",
      "r2   3   6   9  12  15\n",
      "\n",
      "\n",
      "    co  c1  c2  c3  c4\n",
      "r2   3   6   9  12  15\n",
      "r1   2   5   8  11  14\n",
      "r0   1   4   7  10  13\n"
     ]
    }
   ],
   "source": [
    "df = pd.DataFrame(dict_data, index=['r0','r1','r2'])\n",
    "print(df)\n",
    "print('\\n')\n",
    "\n",
    "ndf = df.sort_values(by='c1', ascending=False)\n",
    "print(ndf)"
   ]
  },
  {
   "cell_type": "markdown",
   "id": "d8b6cb04",
   "metadata": {},
   "source": [
    "### 산술연산\n",
    "> 판다스 객체의 산술연산은 내부적으로 3단계 프로세스를 거친다. 행/열 인덱스를 기준으로 모든 원소를 정렬한다. 동일한 위치에 있는 원소끼리 일대일로 대응시킨다. 일대일 대응이 되는 원소끼리 연산을 처리한다. 단, 이때 대응되는 원소가 없으면 NaN으로 처리한다. \n",
    "\n",
    "### 시리즈 연산\n",
    "- 시리즈 vs 숫자  \n",
    "시리즈 객체에 어떤 숫자를 더하면 시리즈의 개별 원소에 각각 숫자를 더하고 계산한 결과를 시리즈 객체로 반환한다. 덧셈, 뺄셈, 곱셈, 나눗셈 모두 가능하다. 다음의 예제에서는 시리즈 객체의 각 원소를 200으로 나누는 과정을 살펴보자.  \n",
    "\n",
    "***시리즈와 숫자 연산: Series 객체  + 연산자(+,-,*\\,/) + 숫자***\n",
    "\n"
   ]
  },
  {
   "cell_type": "code",
   "execution_count": 93,
   "id": "44ca236b",
   "metadata": {},
   "outputs": [
    {
     "name": "stdout",
     "output_type": "stream",
     "text": [
      "국어    100\n",
      "영어     80\n",
      "수학     90\n",
      "dtype: int64\n",
      "\n",
      "\n"
     ]
    }
   ],
   "source": [
    "student1 = pd.Series({'국어': 100, '영어': 80, '수학':90})\n",
    "print(student1)\n",
    "print('\\n')"
   ]
  },
  {
   "cell_type": "code",
   "execution_count": 94,
   "id": "23ad3177",
   "metadata": {},
   "outputs": [],
   "source": [
    "percentage = student1/200"
   ]
  },
  {
   "cell_type": "code",
   "execution_count": 95,
   "id": "33a9225f",
   "metadata": {},
   "outputs": [
    {
     "name": "stdout",
     "output_type": "stream",
     "text": [
      "국어    0.50\n",
      "영어    0.40\n",
      "수학    0.45\n",
      "dtype: float64\n",
      "\n",
      "\n",
      "<class 'pandas.core.series.Series'>\n"
     ]
    }
   ],
   "source": [
    "print(percentage)\n",
    "print('\\n')\n",
    "print(type(percentage))"
   ]
  },
  {
   "cell_type": "code",
   "execution_count": null,
   "id": "b6d58706",
   "metadata": {},
   "outputs": [],
   "source": []
  },
  {
   "cell_type": "raw",
   "id": "fe1aa12e",
   "metadata": {},
   "source": []
  }
 ],
 "metadata": {
  "kernelspec": {
   "display_name": "Python 3 (ipykernel)",
   "language": "python",
   "name": "python3"
  },
  "language_info": {
   "codemirror_mode": {
    "name": "ipython",
    "version": 3
   },
   "file_extension": ".py",
   "mimetype": "text/x-python",
   "name": "python",
   "nbconvert_exporter": "python",
   "pygments_lexer": "ipython3",
   "version": "3.8.2"
  }
 },
 "nbformat": 4,
 "nbformat_minor": 5
}
